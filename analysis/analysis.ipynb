{
 "cells": [
  {
   "cell_type": "code",
   "execution_count": 6,
   "metadata": {},
   "outputs": [
    {
     "name": "stdout",
     "output_type": "stream",
     "text": [
      "/home/gpt/grm/CLISA_Hydra\n"
     ]
    }
   ],
   "source": [
    "import sys\n",
    "import os\n",
    "\n",
    "# 获取顶层目录的路径\n",
    "top_level_path = os.path.abspath(os.path.join(os.getcwd(), '..'))\n",
    "print(top_level_path)\n",
    "# 将顶层目录添加到 Python 的路径中\n",
    "if top_level_path not in sys.path:\n",
    "    sys.path.append(top_level_path)"
   ]
  },
  {
   "cell_type": "code",
   "execution_count": 7,
   "metadata": {},
   "outputs": [],
   "source": [
    "from hydra import initialize, compose\n",
    "from omegaconf import DictConfig, OmegaConf\n",
    "import numpy as np\n",
    "import os\n",
    "from data.dataset import PDataset\n",
    "from model.pl_models import MLPModel\n",
    "import pytorch_lightning as pl\n",
    "from torch.utils.data import DataLoader\n",
    "import torch\n",
    "import logging\n",
    "import glob\n",
    "from utils.utils import config_logging, get_confusionMat\n",
    "\n"
   ]
  },
  {
   "cell_type": "code",
   "execution_count": 8,
   "metadata": {},
   "outputs": [
    {
     "name": "stdout",
     "output_type": "stream",
     "text": [
      "seed: 7\n",
      "log:\n",
      "  run: 57\n",
      "  proj_name: CLISA_FACED_new\n",
      "  exp_name: use_pretrainFalse\n",
      "  cp_dir: /mnt/data/model_weights/grm/clisa_cp2/\n",
      "train:\n",
      "  gpus:\n",
      "  - 3\n",
      "  valid_method: loo\n",
      "  iftest: false\n",
      "  n_subs: ${data.n_subs}\n",
      "  lr: 0.0007\n",
      "  wd: 0.00015\n",
      "  loss_temp: 0.07\n",
      "  max_epochs: 30\n",
      "  min_epochs: 10\n",
      "  patience: 30\n",
      "  num_workers: 8\n",
      "  restart_times: ${train.max_epochs}\n",
      "mlp:\n",
      "  hidden_dim: 128\n",
      "  out_dim: ${data.n_class}\n",
      "  lr: 0.0005\n",
      "  wd: 0.0022\n",
      "  max_epochs: 100\n",
      "  min_epochs: 30\n",
      "  patience: 30\n",
      "  gpus: ${train.gpus}\n",
      "  num_workers: ${train.num_workers}\n",
      "  batch_size: 256\n",
      "ext_fea:\n",
      "  normTrain: true\n",
      "  batch_size: 256\n",
      "  mode: me\n",
      "  rn_decay: 0.99\n",
      "  use_pretrain: true\n",
      "data:\n",
      "  dataset_name: SEEDV\n",
      "  data_dir: /mnt/data/model_weights/grm/SEEDV_new2\n",
      "  fs: 125\n",
      "  n_channs: 60\n",
      "  n_session: 3\n",
      "  n_subs: 16\n",
      "  n_vids: 15\n",
      "  n_class: 5\n",
      "  timeLen: 22\n",
      "  timeStep: 11\n",
      "  timeLen2: 1\n",
      "  timeStep2: 1\n",
      "  class_names:\n",
      "  - Disgust\n",
      "  - Fear\n",
      "  - Sad\n",
      "  - Neutral\n",
      "  - Happy\n",
      "model:\n",
      "  _target_: model.models.Conv_att_simple_new\n",
      "  n_timeFilters: 16\n",
      "  timeFilterLen: 30\n",
      "  n_msFilters: 4\n",
      "  msFilter_timeLen: 3\n",
      "  n_channs: ${data.n_channs}\n",
      "  dilation_array:\n",
      "  - 1\n",
      "  - 3\n",
      "  - 6\n",
      "  - 12\n",
      "  seg_att: 15\n",
      "  avgPoolLen: 15\n",
      "  timeSmootherLen: 3\n",
      "  multiFact: 2\n",
      "  stratified:\n",
      "  - initial\n",
      "  - middle1\n",
      "  - middle2\n",
      "  activ: softmax\n",
      "  temp: 1.0\n",
      "  saveFea: false\n",
      "  has_att: true\n",
      "  extract_mode: ${ext_fea.mode}\n",
      "  global_att: false\n",
      "\n"
     ]
    }
   ],
   "source": [
    "with initialize(version_base=\"1.3\", config_path=\"../cfgs\"):\n",
    "    # cfg = compose(config_name=\"config\", overrides=['log.run=47','data=FACED_def', 'train.iftest=False', 'log.exp_name=nodilation',\n",
    "    #                                                'mlp.wd=0.0022', 'train.gpus=[5]', 'train.valid_method=10'])\n",
    "    # cfg = compose(config_name=\"config\", overrides=['log.run=56','data=FACED_def', 'train.iftest=False', 'log.exp_name=use_pretrainFalse',\n",
    "    #                                                'mlp.wd=0.0075', 'train.gpus=[3]', 'train.valid_method=10'])\n",
    "    cfg = compose(config_name=\"config\", overrides=['log.run=57','data=SEEDV', 'train.iftest=False', 'log.exp_name=use_pretrainFalse',\n",
    "                                                   'mlp.wd=0.0022', 'train.gpus=[3]', 'train.valid_method=\"loo\"'])\n",
    "    print(OmegaConf.to_yaml(cfg))\n",
    "    cfg = DictConfig(cfg)\n",
    "    "
   ]
  },
  {
   "cell_type": "code",
   "execution_count": 9,
   "metadata": {},
   "outputs": [],
   "source": [
    "import matplotlib.pyplot as plt\n",
    "import seaborn as sns\n",
    "\n",
    "def plot_confusion_matrix(confusion_mat, class_names, mode='recall'):\n",
    "    if mode == 'recall':\n",
    "        confusion_mat = confusion_mat / confusion_mat.sum(axis=0, keepdims=True)\n",
    "    elif mode == 'precision':\n",
    "        confusion_mat = confusion_mat / confusion_mat.sum(axis=1, keepdims=True)\n",
    "    plt.figure(figsize=(10, 7))\n",
    "    sns.set(font_scale=1.4)  # 调整字体大小\n",
    "    # sns.heatmap(confusion_mat, annot=True, annot_kws={\"size\": 16}, fmt='g', cmap='Blues')\n",
    "    ax = sns.heatmap(confusion_mat, annot=True, annot_kws={\"size\": 16}, \n",
    "                     fmt='.2f', cmap='Blues', xticklabels=class_names, yticklabels=class_names)\n",
    "    ax.set_aspect('equal')  # 确保每个方格为正方形\n",
    "    plt.xticks(rotation=45)  # 标签旋转45度\n",
    "    plt.xlabel('True labels')\n",
    "    plt.ylabel('Predicted labels')\n",
    "    plt.title('Confusion Matrix')\n",
    "    plt.show()\n",
    "\n",
    "\n",
    "\n",
    "def mat_statistics(confusion_mat):\n",
    "    correct_predictions  = np.trace(confusion_mat)\n",
    "    total_samples  = confusion_mat.sum()\n",
    "    accuracy = correct_predictions / total_samples \n",
    "    recall = np.diag(confusion_mat) / confusion_mat.sum(axis=0)\n",
    "    precision = np.diag(confusion_mat) / confusion_mat.sum(axis=1)\n",
    "\n",
    "    precision_mean = np.mean(precision)\n",
    "    recall_mean = np.mean(recall)\n",
    "    f1 = 2 * precision_mean * recall_mean / (precision_mean + recall_mean)\n",
    "    \n",
    "    print('accuracy:', accuracy)\n",
    "    print('precision mean(balanced acc):', precision_mean)\n",
    "    print('recall mean:', recall_mean)\n",
    "    print('f1', f1)\n",
    "    \n",
    "    return accuracy, precision_mean, recall_mean, f1\n",
    "    "
   ]
  },
  {
   "cell_type": "code",
   "execution_count": 10,
   "metadata": {},
   "outputs": [
    {
     "name": "stderr",
     "output_type": "stream",
     "text": [
      "Global seed set to 7\n"
     ]
    },
    {
     "name": "stdout",
     "output_type": "stream",
     "text": [
      "2024-06-27 23:11:16: [INFO]: fold:0\n",
      "2024-06-27 23:11:16: [INFO]: train_subs:[1, 2, 3, 4, 5, 6, 7, 8, 9, 10, 11, 12, 13, 14, 15]\n",
      "2024-06-27 23:11:16: [INFO]: val_subs:[0]\n"
     ]
    },
    {
     "name": "stdout",
     "output_type": "stream",
     "text": [
      "2024-06-27 23:11:16: [INFO]: data2 load from: /mnt/data/model_weights/grm/SEEDV_new2/ext_fea/fea_r57/use_pretrainFalse_r57_f0_fea_me.npy\n",
      "2024-06-27 23:11:16: [INFO]: data2 shape: (16, 7359, 300)\n",
      "2024-06-27 23:11:17: [INFO]: checkpoint load from: /mnt/data/model_weights/grm/clisa_cp2/SEEDV/r57/mlp_f0_use_pretrainFalse_mlp_r57_f0_best_wd0.0022.ckpt\n",
      "2024-06-27 23:11:17: [WARNING]: /home/gpt/anaconda3/envs/torch2/lib/python3.11/site-packages/pytorch_lightning/utilities/parsing.py:263: UserWarning: Attribute 'model' is an instance of `nn.Module` and is already saved during checkpointing. It is recommended to ignore them using `self.save_hyperparameters(ignore=['model'])`.\n",
      "  rank_zero_warn(\n",
      "\n",
      "2024-06-27 23:11:17: [WARNING]: /home/gpt/anaconda3/envs/torch2/lib/python3.11/site-packages/lightning_fabric/plugins/environments/slurm.py:166: PossibleUserWarning: The `srun` command is available on your system but is not used. HINT: If your intention is to run Lightning on SLURM, prepend your python command with `srun` like so: srun python /home/gpt/anaconda3/envs/torch2/lib/python3.11/site- ...\n",
      "  rank_zero_warn(\n",
      "\n"
     ]
    },
    {
     "name": "stderr",
     "output_type": "stream",
     "text": [
      "GPU available: True (cuda), used: True\n",
      "TPU available: False, using: 0 TPU cores\n",
      "IPU available: False, using: 0 IPUs\n",
      "HPU available: False, using: 0 HPUs\n",
      "You are using a CUDA device ('NVIDIA GeForce RTX 4090') that has Tensor Cores. To properly utilize them, you should set `torch.set_float32_matmul_precision('medium' | 'high')` which will trade-off precision for performance. For more details, read https://pytorch.org/docs/stable/generated/torch.set_float32_matmul_precision.html#torch.set_float32_matmul_precision\n",
      "LOCAL_RANK: 0 - CUDA_VISIBLE_DEVICES: [0,1,2,3,4,5,6,7]\n"
     ]
    },
    {
     "data": {
      "application/vnd.jupyter.widget-view+json": {
       "model_id": "e9568d6398204e56bee95ae45e8b19e9",
       "version_major": 2,
       "version_minor": 0
      },
      "text/plain": [
       "Predicting: 0it [00:00, ?it/s]"
      ]
     },
     "metadata": {},
     "output_type": "display_data"
    },
    {
     "name": "stdout",
     "output_type": "stream",
     "text": [
      "2024-06-27 23:11:17: [INFO]: fold:1\n",
      "2024-06-27 23:11:17: [INFO]: train_subs:[0, 2, 3, 4, 5, 6, 7, 8, 9, 10, 11, 12, 13, 14, 15]\n",
      "2024-06-27 23:11:17: [INFO]: val_subs:[1]\n",
      "2024-06-27 23:11:17: [INFO]: data2 load from: /mnt/data/model_weights/grm/SEEDV_new2/ext_fea/fea_r57/use_pretrainFalse_r57_f1_fea_me.npy\n",
      "2024-06-27 23:11:17: [INFO]: data2 shape: (16, 7359, 300)\n",
      "2024-06-27 23:11:17: [INFO]: checkpoint load from: /mnt/data/model_weights/grm/clisa_cp2/SEEDV/r57/mlp_f11_use_pretrainFalse_mlp_r57_f11_best_wd0.0022.ckpt\n"
     ]
    },
    {
     "name": "stderr",
     "output_type": "stream",
     "text": [
      "GPU available: True (cuda), used: True\n",
      "TPU available: False, using: 0 TPU cores\n",
      "IPU available: False, using: 0 IPUs\n",
      "HPU available: False, using: 0 HPUs\n",
      "You are using a CUDA device ('NVIDIA GeForce RTX 4090') that has Tensor Cores. To properly utilize them, you should set `torch.set_float32_matmul_precision('medium' | 'high')` which will trade-off precision for performance. For more details, read https://pytorch.org/docs/stable/generated/torch.set_float32_matmul_precision.html#torch.set_float32_matmul_precision\n",
      "LOCAL_RANK: 0 - CUDA_VISIBLE_DEVICES: [0,1,2,3,4,5,6,7]\n"
     ]
    },
    {
     "data": {
      "application/vnd.jupyter.widget-view+json": {
       "model_id": "2930f480e10d4dd9af9451d7cbc2d2e4",
       "version_major": 2,
       "version_minor": 0
      },
      "text/plain": [
       "Predicting: 0it [00:00, ?it/s]"
      ]
     },
     "metadata": {},
     "output_type": "display_data"
    },
    {
     "name": "stdout",
     "output_type": "stream",
     "text": [
      "2024-06-27 23:11:18: [INFO]: fold:2\n",
      "2024-06-27 23:11:18: [INFO]: train_subs:[0, 1, 3, 4, 5, 6, 7, 8, 9, 10, 11, 12, 13, 14, 15]\n",
      "2024-06-27 23:11:18: [INFO]: val_subs:[2]\n",
      "2024-06-27 23:11:18: [INFO]: data2 load from: /mnt/data/model_weights/grm/SEEDV_new2/ext_fea/fea_r57/use_pretrainFalse_r57_f2_fea_me.npy\n",
      "2024-06-27 23:11:18: [INFO]: data2 shape: (16, 7359, 300)\n",
      "2024-06-27 23:11:18: [INFO]: checkpoint load from: /mnt/data/model_weights/grm/clisa_cp2/SEEDV/r57/mlp_f2_use_pretrainFalse_mlp_r57_f2_best_wd0.0022.ckpt\n"
     ]
    },
    {
     "name": "stderr",
     "output_type": "stream",
     "text": [
      "GPU available: True (cuda), used: True\n",
      "TPU available: False, using: 0 TPU cores\n",
      "IPU available: False, using: 0 IPUs\n",
      "HPU available: False, using: 0 HPUs\n",
      "You are using a CUDA device ('NVIDIA GeForce RTX 4090') that has Tensor Cores. To properly utilize them, you should set `torch.set_float32_matmul_precision('medium' | 'high')` which will trade-off precision for performance. For more details, read https://pytorch.org/docs/stable/generated/torch.set_float32_matmul_precision.html#torch.set_float32_matmul_precision\n",
      "LOCAL_RANK: 0 - CUDA_VISIBLE_DEVICES: [0,1,2,3,4,5,6,7]\n"
     ]
    },
    {
     "data": {
      "application/vnd.jupyter.widget-view+json": {
       "model_id": "16e71168e7a848a980d86cb19b60782e",
       "version_major": 2,
       "version_minor": 0
      },
      "text/plain": [
       "Predicting: 0it [00:00, ?it/s]"
      ]
     },
     "metadata": {},
     "output_type": "display_data"
    },
    {
     "name": "stdout",
     "output_type": "stream",
     "text": [
      "2024-06-27 23:11:19: [INFO]: fold:3\n",
      "2024-06-27 23:11:19: [INFO]: train_subs:[0, 1, 2, 4, 5, 6, 7, 8, 9, 10, 11, 12, 13, 14, 15]\n",
      "2024-06-27 23:11:19: [INFO]: val_subs:[3]\n",
      "2024-06-27 23:11:19: [INFO]: data2 load from: /mnt/data/model_weights/grm/SEEDV_new2/ext_fea/fea_r57/use_pretrainFalse_r57_f3_fea_me.npy\n",
      "2024-06-27 23:11:19: [INFO]: data2 shape: (16, 7359, 300)\n",
      "2024-06-27 23:11:19: [INFO]: checkpoint load from: /mnt/data/model_weights/grm/clisa_cp2/SEEDV/r57/mlp_f3_use_pretrainFalse_mlp_r57_f3_best_wd0.0022.ckpt\n"
     ]
    },
    {
     "name": "stderr",
     "output_type": "stream",
     "text": [
      "GPU available: True (cuda), used: True\n",
      "TPU available: False, using: 0 TPU cores\n",
      "IPU available: False, using: 0 IPUs\n",
      "HPU available: False, using: 0 HPUs\n",
      "You are using a CUDA device ('NVIDIA GeForce RTX 4090') that has Tensor Cores. To properly utilize them, you should set `torch.set_float32_matmul_precision('medium' | 'high')` which will trade-off precision for performance. For more details, read https://pytorch.org/docs/stable/generated/torch.set_float32_matmul_precision.html#torch.set_float32_matmul_precision\n",
      "LOCAL_RANK: 0 - CUDA_VISIBLE_DEVICES: [0,1,2,3,4,5,6,7]\n"
     ]
    },
    {
     "data": {
      "application/vnd.jupyter.widget-view+json": {
       "model_id": "e7c6ecd9518b44eb9cb206728a94b380",
       "version_major": 2,
       "version_minor": 0
      },
      "text/plain": [
       "Predicting: 0it [00:00, ?it/s]"
      ]
     },
     "metadata": {},
     "output_type": "display_data"
    },
    {
     "name": "stdout",
     "output_type": "stream",
     "text": [
      "2024-06-27 23:11:19: [INFO]: fold:4\n",
      "2024-06-27 23:11:19: [INFO]: train_subs:[0, 1, 2, 3, 5, 6, 7, 8, 9, 10, 11, 12, 13, 14, 15]\n",
      "2024-06-27 23:11:19: [INFO]: val_subs:[4]\n",
      "2024-06-27 23:11:19: [INFO]: data2 load from: /mnt/data/model_weights/grm/SEEDV_new2/ext_fea/fea_r57/use_pretrainFalse_r57_f4_fea_me.npy\n",
      "2024-06-27 23:11:19: [INFO]: data2 shape: (16, 7359, 300)\n",
      "2024-06-27 23:11:19: [INFO]: checkpoint load from: /mnt/data/model_weights/grm/clisa_cp2/SEEDV/r57/mlp_f4_use_pretrainFalse_mlp_r57_f4_best_wd0.0022.ckpt\n"
     ]
    },
    {
     "name": "stderr",
     "output_type": "stream",
     "text": [
      "GPU available: True (cuda), used: True\n",
      "TPU available: False, using: 0 TPU cores\n",
      "IPU available: False, using: 0 IPUs\n",
      "HPU available: False, using: 0 HPUs\n",
      "You are using a CUDA device ('NVIDIA GeForce RTX 4090') that has Tensor Cores. To properly utilize them, you should set `torch.set_float32_matmul_precision('medium' | 'high')` which will trade-off precision for performance. For more details, read https://pytorch.org/docs/stable/generated/torch.set_float32_matmul_precision.html#torch.set_float32_matmul_precision\n",
      "LOCAL_RANK: 0 - CUDA_VISIBLE_DEVICES: [0,1,2,3,4,5,6,7]\n"
     ]
    },
    {
     "data": {
      "application/vnd.jupyter.widget-view+json": {
       "model_id": "c109768e1da248a494824cf636d77f59",
       "version_major": 2,
       "version_minor": 0
      },
      "text/plain": [
       "Predicting: 0it [00:00, ?it/s]"
      ]
     },
     "metadata": {},
     "output_type": "display_data"
    },
    {
     "name": "stdout",
     "output_type": "stream",
     "text": [
      "2024-06-27 23:11:20: [INFO]: fold:5\n",
      "2024-06-27 23:11:20: [INFO]: train_subs:[0, 1, 2, 3, 4, 6, 7, 8, 9, 10, 11, 12, 13, 14, 15]\n",
      "2024-06-27 23:11:20: [INFO]: val_subs:[5]\n",
      "2024-06-27 23:11:20: [INFO]: data2 load from: /mnt/data/model_weights/grm/SEEDV_new2/ext_fea/fea_r57/use_pretrainFalse_r57_f5_fea_me.npy\n",
      "2024-06-27 23:11:20: [INFO]: data2 shape: (16, 7359, 300)\n",
      "2024-06-27 23:11:20: [INFO]: checkpoint load from: /mnt/data/model_weights/grm/clisa_cp2/SEEDV/r57/mlp_f5_use_pretrainFalse_mlp_r57_f5_best_wd0.0022.ckpt\n"
     ]
    },
    {
     "name": "stderr",
     "output_type": "stream",
     "text": [
      "GPU available: True (cuda), used: True\n",
      "TPU available: False, using: 0 TPU cores\n",
      "IPU available: False, using: 0 IPUs\n",
      "HPU available: False, using: 0 HPUs\n",
      "You are using a CUDA device ('NVIDIA GeForce RTX 4090') that has Tensor Cores. To properly utilize them, you should set `torch.set_float32_matmul_precision('medium' | 'high')` which will trade-off precision for performance. For more details, read https://pytorch.org/docs/stable/generated/torch.set_float32_matmul_precision.html#torch.set_float32_matmul_precision\n",
      "LOCAL_RANK: 0 - CUDA_VISIBLE_DEVICES: [0,1,2,3,4,5,6,7]\n"
     ]
    },
    {
     "data": {
      "application/vnd.jupyter.widget-view+json": {
       "model_id": "2cc98f1b3c96470da240c84c419e1393",
       "version_major": 2,
       "version_minor": 0
      },
      "text/plain": [
       "Predicting: 0it [00:00, ?it/s]"
      ]
     },
     "metadata": {},
     "output_type": "display_data"
    },
    {
     "name": "stdout",
     "output_type": "stream",
     "text": [
      "2024-06-27 23:11:21: [INFO]: fold:6\n",
      "2024-06-27 23:11:21: [INFO]: train_subs:[0, 1, 2, 3, 4, 5, 7, 8, 9, 10, 11, 12, 13, 14, 15]\n",
      "2024-06-27 23:11:21: [INFO]: val_subs:[6]\n",
      "2024-06-27 23:11:21: [INFO]: data2 load from: /mnt/data/model_weights/grm/SEEDV_new2/ext_fea/fea_r57/use_pretrainFalse_r57_f6_fea_me.npy\n",
      "2024-06-27 23:11:21: [INFO]: data2 shape: (16, 7359, 300)\n",
      "2024-06-27 23:11:21: [INFO]: checkpoint load from: /mnt/data/model_weights/grm/clisa_cp2/SEEDV/r57/mlp_f6_use_pretrainFalse_mlp_r57_f6_best_wd0.0022.ckpt\n"
     ]
    },
    {
     "name": "stderr",
     "output_type": "stream",
     "text": [
      "GPU available: True (cuda), used: True\n",
      "TPU available: False, using: 0 TPU cores\n",
      "IPU available: False, using: 0 IPUs\n",
      "HPU available: False, using: 0 HPUs\n",
      "You are using a CUDA device ('NVIDIA GeForce RTX 4090') that has Tensor Cores. To properly utilize them, you should set `torch.set_float32_matmul_precision('medium' | 'high')` which will trade-off precision for performance. For more details, read https://pytorch.org/docs/stable/generated/torch.set_float32_matmul_precision.html#torch.set_float32_matmul_precision\n",
      "LOCAL_RANK: 0 - CUDA_VISIBLE_DEVICES: [0,1,2,3,4,5,6,7]\n"
     ]
    },
    {
     "data": {
      "application/vnd.jupyter.widget-view+json": {
       "model_id": "e06cbd56fab3428880fcb4527a64114e",
       "version_major": 2,
       "version_minor": 0
      },
      "text/plain": [
       "Predicting: 0it [00:00, ?it/s]"
      ]
     },
     "metadata": {},
     "output_type": "display_data"
    },
    {
     "name": "stdout",
     "output_type": "stream",
     "text": [
      "2024-06-27 23:11:22: [INFO]: fold:7\n",
      "2024-06-27 23:11:22: [INFO]: train_subs:[0, 1, 2, 3, 4, 5, 6, 8, 9, 10, 11, 12, 13, 14, 15]\n",
      "2024-06-27 23:11:22: [INFO]: val_subs:[7]\n",
      "2024-06-27 23:11:22: [INFO]: data2 load from: /mnt/data/model_weights/grm/SEEDV_new2/ext_fea/fea_r57/use_pretrainFalse_r57_f7_fea_me.npy\n",
      "2024-06-27 23:11:22: [INFO]: data2 shape: (16, 7359, 300)\n",
      "2024-06-27 23:11:22: [INFO]: checkpoint load from: /mnt/data/model_weights/grm/clisa_cp2/SEEDV/r57/mlp_f7_use_pretrainFalse_mlp_r57_f7_best_wd0.0022.ckpt\n"
     ]
    },
    {
     "name": "stderr",
     "output_type": "stream",
     "text": [
      "GPU available: True (cuda), used: True\n",
      "TPU available: False, using: 0 TPU cores\n",
      "IPU available: False, using: 0 IPUs\n",
      "HPU available: False, using: 0 HPUs\n",
      "You are using a CUDA device ('NVIDIA GeForce RTX 4090') that has Tensor Cores. To properly utilize them, you should set `torch.set_float32_matmul_precision('medium' | 'high')` which will trade-off precision for performance. For more details, read https://pytorch.org/docs/stable/generated/torch.set_float32_matmul_precision.html#torch.set_float32_matmul_precision\n",
      "LOCAL_RANK: 0 - CUDA_VISIBLE_DEVICES: [0,1,2,3,4,5,6,7]\n"
     ]
    },
    {
     "data": {
      "application/vnd.jupyter.widget-view+json": {
       "model_id": "12be58d95c494e4b806885a1e96c0332",
       "version_major": 2,
       "version_minor": 0
      },
      "text/plain": [
       "Predicting: 0it [00:00, ?it/s]"
      ]
     },
     "metadata": {},
     "output_type": "display_data"
    },
    {
     "name": "stdout",
     "output_type": "stream",
     "text": [
      "2024-06-27 23:11:22: [INFO]: fold:8\n",
      "2024-06-27 23:11:22: [INFO]: train_subs:[0, 1, 2, 3, 4, 5, 6, 7, 9, 10, 11, 12, 13, 14, 15]\n",
      "2024-06-27 23:11:22: [INFO]: val_subs:[8]\n",
      "2024-06-27 23:11:22: [INFO]: data2 load from: /mnt/data/model_weights/grm/SEEDV_new2/ext_fea/fea_r57/use_pretrainFalse_r57_f8_fea_me.npy\n",
      "2024-06-27 23:11:22: [INFO]: data2 shape: (16, 7359, 300)\n",
      "2024-06-27 23:11:22: [INFO]: checkpoint load from: /mnt/data/model_weights/grm/clisa_cp2/SEEDV/r57/mlp_f8_use_pretrainFalse_mlp_r57_f8_best_wd0.0022.ckpt\n"
     ]
    },
    {
     "name": "stderr",
     "output_type": "stream",
     "text": [
      "GPU available: True (cuda), used: True\n",
      "TPU available: False, using: 0 TPU cores\n",
      "IPU available: False, using: 0 IPUs\n",
      "HPU available: False, using: 0 HPUs\n",
      "You are using a CUDA device ('NVIDIA GeForce RTX 4090') that has Tensor Cores. To properly utilize them, you should set `torch.set_float32_matmul_precision('medium' | 'high')` which will trade-off precision for performance. For more details, read https://pytorch.org/docs/stable/generated/torch.set_float32_matmul_precision.html#torch.set_float32_matmul_precision\n",
      "LOCAL_RANK: 0 - CUDA_VISIBLE_DEVICES: [0,1,2,3,4,5,6,7]\n"
     ]
    },
    {
     "data": {
      "application/vnd.jupyter.widget-view+json": {
       "model_id": "a4d4cf7e4b7a492dbd369f3ad07ec4e0",
       "version_major": 2,
       "version_minor": 0
      },
      "text/plain": [
       "Predicting: 0it [00:00, ?it/s]"
      ]
     },
     "metadata": {},
     "output_type": "display_data"
    },
    {
     "name": "stdout",
     "output_type": "stream",
     "text": [
      "2024-06-27 23:11:23: [INFO]: fold:9\n",
      "2024-06-27 23:11:23: [INFO]: train_subs:[0, 1, 2, 3, 4, 5, 6, 7, 8, 10, 11, 12, 13, 14, 15]\n",
      "2024-06-27 23:11:23: [INFO]: val_subs:[9]\n",
      "2024-06-27 23:11:24: [INFO]: data2 load from: /mnt/data/model_weights/grm/SEEDV_new2/ext_fea/fea_r57/use_pretrainFalse_r57_f9_fea_me.npy\n",
      "2024-06-27 23:11:24: [INFO]: data2 shape: (16, 7359, 300)\n",
      "2024-06-27 23:11:24: [INFO]: checkpoint load from: /mnt/data/model_weights/grm/clisa_cp2/SEEDV/r57/mlp_f9_use_pretrainFalse_mlp_r57_f9_best_wd0.0022.ckpt\n"
     ]
    },
    {
     "name": "stderr",
     "output_type": "stream",
     "text": [
      "GPU available: True (cuda), used: True\n",
      "TPU available: False, using: 0 TPU cores\n",
      "IPU available: False, using: 0 IPUs\n",
      "HPU available: False, using: 0 HPUs\n",
      "You are using a CUDA device ('NVIDIA GeForce RTX 4090') that has Tensor Cores. To properly utilize them, you should set `torch.set_float32_matmul_precision('medium' | 'high')` which will trade-off precision for performance. For more details, read https://pytorch.org/docs/stable/generated/torch.set_float32_matmul_precision.html#torch.set_float32_matmul_precision\n",
      "LOCAL_RANK: 0 - CUDA_VISIBLE_DEVICES: [0,1,2,3,4,5,6,7]\n"
     ]
    },
    {
     "data": {
      "application/vnd.jupyter.widget-view+json": {
       "model_id": "ff8c94d5cb334a1abf5b94396158e6e9",
       "version_major": 2,
       "version_minor": 0
      },
      "text/plain": [
       "Predicting: 0it [00:00, ?it/s]"
      ]
     },
     "metadata": {},
     "output_type": "display_data"
    },
    {
     "name": "stdout",
     "output_type": "stream",
     "text": [
      "2024-06-27 23:11:24: [INFO]: fold:10\n",
      "2024-06-27 23:11:24: [INFO]: train_subs:[0, 1, 2, 3, 4, 5, 6, 7, 8, 9, 11, 12, 13, 14, 15]\n",
      "2024-06-27 23:11:24: [INFO]: val_subs:[10]\n",
      "2024-06-27 23:11:25: [INFO]: data2 load from: /mnt/data/model_weights/grm/SEEDV_new2/ext_fea/fea_r57/use_pretrainFalse_r57_f10_fea_me.npy\n",
      "2024-06-27 23:11:25: [INFO]: data2 shape: (16, 7359, 300)\n",
      "2024-06-27 23:11:25: [INFO]: checkpoint load from: /mnt/data/model_weights/grm/clisa_cp2/SEEDV/r57/mlp_f10_use_pretrainFalse_mlp_r57_f10_best_wd0.0022.ckpt\n"
     ]
    },
    {
     "name": "stderr",
     "output_type": "stream",
     "text": [
      "GPU available: True (cuda), used: True\n",
      "TPU available: False, using: 0 TPU cores\n",
      "IPU available: False, using: 0 IPUs\n",
      "HPU available: False, using: 0 HPUs\n",
      "You are using a CUDA device ('NVIDIA GeForce RTX 4090') that has Tensor Cores. To properly utilize them, you should set `torch.set_float32_matmul_precision('medium' | 'high')` which will trade-off precision for performance. For more details, read https://pytorch.org/docs/stable/generated/torch.set_float32_matmul_precision.html#torch.set_float32_matmul_precision\n",
      "LOCAL_RANK: 0 - CUDA_VISIBLE_DEVICES: [0,1,2,3,4,5,6,7]\n"
     ]
    },
    {
     "data": {
      "application/vnd.jupyter.widget-view+json": {
       "model_id": "702ea082aed4426789f3fef309bcb24c",
       "version_major": 2,
       "version_minor": 0
      },
      "text/plain": [
       "Predicting: 0it [00:00, ?it/s]"
      ]
     },
     "metadata": {},
     "output_type": "display_data"
    },
    {
     "name": "stdout",
     "output_type": "stream",
     "text": [
      "2024-06-27 23:11:25: [INFO]: fold:11\n",
      "2024-06-27 23:11:25: [INFO]: train_subs:[0, 1, 2, 3, 4, 5, 6, 7, 8, 9, 10, 12, 13, 14, 15]\n",
      "2024-06-27 23:11:25: [INFO]: val_subs:[11]\n",
      "2024-06-27 23:11:26: [INFO]: data2 load from: /mnt/data/model_weights/grm/SEEDV_new2/ext_fea/fea_r57/use_pretrainFalse_r57_f11_fea_me.npy\n",
      "2024-06-27 23:11:26: [INFO]: data2 shape: (16, 7359, 300)\n",
      "2024-06-27 23:11:26: [INFO]: checkpoint load from: /mnt/data/model_weights/grm/clisa_cp2/SEEDV/r57/mlp_f11_use_pretrainFalse_mlp_r57_f11_best_wd0.0022.ckpt\n"
     ]
    },
    {
     "name": "stderr",
     "output_type": "stream",
     "text": [
      "GPU available: True (cuda), used: True\n",
      "TPU available: False, using: 0 TPU cores\n",
      "IPU available: False, using: 0 IPUs\n",
      "HPU available: False, using: 0 HPUs\n",
      "You are using a CUDA device ('NVIDIA GeForce RTX 4090') that has Tensor Cores. To properly utilize them, you should set `torch.set_float32_matmul_precision('medium' | 'high')` which will trade-off precision for performance. For more details, read https://pytorch.org/docs/stable/generated/torch.set_float32_matmul_precision.html#torch.set_float32_matmul_precision\n",
      "LOCAL_RANK: 0 - CUDA_VISIBLE_DEVICES: [0,1,2,3,4,5,6,7]\n"
     ]
    },
    {
     "data": {
      "application/vnd.jupyter.widget-view+json": {
       "model_id": "e5d6b4526b50466d97a7e0d7fda98b08",
       "version_major": 2,
       "version_minor": 0
      },
      "text/plain": [
       "Predicting: 0it [00:00, ?it/s]"
      ]
     },
     "metadata": {},
     "output_type": "display_data"
    },
    {
     "name": "stdout",
     "output_type": "stream",
     "text": [
      "2024-06-27 23:11:27: [INFO]: fold:12\n",
      "2024-06-27 23:11:27: [INFO]: train_subs:[0, 1, 2, 3, 4, 5, 6, 7, 8, 9, 10, 11, 13, 14, 15]\n",
      "2024-06-27 23:11:27: [INFO]: val_subs:[12]\n",
      "2024-06-27 23:11:27: [INFO]: data2 load from: /mnt/data/model_weights/grm/SEEDV_new2/ext_fea/fea_r57/use_pretrainFalse_r57_f12_fea_me.npy\n",
      "2024-06-27 23:11:27: [INFO]: data2 shape: (16, 7359, 300)\n",
      "2024-06-27 23:11:27: [INFO]: checkpoint load from: /mnt/data/model_weights/grm/clisa_cp2/SEEDV/r57/mlp_f12_use_pretrainFalse_mlp_r57_f12_best_wd0.0022.ckpt\n"
     ]
    },
    {
     "name": "stderr",
     "output_type": "stream",
     "text": [
      "GPU available: True (cuda), used: True\n",
      "TPU available: False, using: 0 TPU cores\n",
      "IPU available: False, using: 0 IPUs\n",
      "HPU available: False, using: 0 HPUs\n",
      "You are using a CUDA device ('NVIDIA GeForce RTX 4090') that has Tensor Cores. To properly utilize them, you should set `torch.set_float32_matmul_precision('medium' | 'high')` which will trade-off precision for performance. For more details, read https://pytorch.org/docs/stable/generated/torch.set_float32_matmul_precision.html#torch.set_float32_matmul_precision\n",
      "LOCAL_RANK: 0 - CUDA_VISIBLE_DEVICES: [0,1,2,3,4,5,6,7]\n"
     ]
    },
    {
     "data": {
      "application/vnd.jupyter.widget-view+json": {
       "model_id": "484cb48ce6874696b0445532d4409c87",
       "version_major": 2,
       "version_minor": 0
      },
      "text/plain": [
       "Predicting: 0it [00:00, ?it/s]"
      ]
     },
     "metadata": {},
     "output_type": "display_data"
    },
    {
     "name": "stdout",
     "output_type": "stream",
     "text": [
      "2024-06-27 23:11:28: [INFO]: fold:13\n",
      "2024-06-27 23:11:28: [INFO]: train_subs:[0, 1, 2, 3, 4, 5, 6, 7, 8, 9, 10, 11, 12, 14, 15]\n",
      "2024-06-27 23:11:28: [INFO]: val_subs:[13]\n",
      "2024-06-27 23:11:28: [INFO]: data2 load from: /mnt/data/model_weights/grm/SEEDV_new2/ext_fea/fea_r57/use_pretrainFalse_r57_f13_fea_me.npy\n",
      "2024-06-27 23:11:28: [INFO]: data2 shape: (16, 7359, 300)\n",
      "2024-06-27 23:11:28: [INFO]: checkpoint load from: /mnt/data/model_weights/grm/clisa_cp2/SEEDV/r57/mlp_f13_use_pretrainFalse_mlp_r57_f13_best_wd0.0022.ckpt\n"
     ]
    },
    {
     "name": "stderr",
     "output_type": "stream",
     "text": [
      "GPU available: True (cuda), used: True\n",
      "TPU available: False, using: 0 TPU cores\n",
      "IPU available: False, using: 0 IPUs\n",
      "HPU available: False, using: 0 HPUs\n",
      "You are using a CUDA device ('NVIDIA GeForce RTX 4090') that has Tensor Cores. To properly utilize them, you should set `torch.set_float32_matmul_precision('medium' | 'high')` which will trade-off precision for performance. For more details, read https://pytorch.org/docs/stable/generated/torch.set_float32_matmul_precision.html#torch.set_float32_matmul_precision\n",
      "LOCAL_RANK: 0 - CUDA_VISIBLE_DEVICES: [0,1,2,3,4,5,6,7]\n"
     ]
    },
    {
     "data": {
      "application/vnd.jupyter.widget-view+json": {
       "model_id": "6027971a5c5240f7b9e7f90045dcf052",
       "version_major": 2,
       "version_minor": 0
      },
      "text/plain": [
       "Predicting: 0it [00:00, ?it/s]"
      ]
     },
     "metadata": {},
     "output_type": "display_data"
    },
    {
     "name": "stdout",
     "output_type": "stream",
     "text": [
      "2024-06-27 23:11:29: [INFO]: fold:14\n",
      "2024-06-27 23:11:29: [INFO]: train_subs:[0, 1, 2, 3, 4, 5, 6, 7, 8, 9, 10, 11, 12, 13, 15]\n",
      "2024-06-27 23:11:29: [INFO]: val_subs:[14]\n",
      "2024-06-27 23:11:29: [INFO]: data2 load from: /mnt/data/model_weights/grm/SEEDV_new2/ext_fea/fea_r57/use_pretrainFalse_r57_f14_fea_me.npy\n",
      "2024-06-27 23:11:29: [INFO]: data2 shape: (16, 7359, 300)\n",
      "2024-06-27 23:11:29: [INFO]: checkpoint load from: /mnt/data/model_weights/grm/clisa_cp2/SEEDV/r57/mlp_f14_use_pretrainFalse_mlp_r57_f14_best_wd0.0022.ckpt\n"
     ]
    },
    {
     "name": "stderr",
     "output_type": "stream",
     "text": [
      "GPU available: True (cuda), used: True\n",
      "TPU available: False, using: 0 TPU cores\n",
      "IPU available: False, using: 0 IPUs\n",
      "HPU available: False, using: 0 HPUs\n",
      "You are using a CUDA device ('NVIDIA GeForce RTX 4090') that has Tensor Cores. To properly utilize them, you should set `torch.set_float32_matmul_precision('medium' | 'high')` which will trade-off precision for performance. For more details, read https://pytorch.org/docs/stable/generated/torch.set_float32_matmul_precision.html#torch.set_float32_matmul_precision\n",
      "LOCAL_RANK: 0 - CUDA_VISIBLE_DEVICES: [0,1,2,3,4,5,6,7]\n"
     ]
    },
    {
     "data": {
      "application/vnd.jupyter.widget-view+json": {
       "model_id": "32f893db33b5445791eda89f7756983e",
       "version_major": 2,
       "version_minor": 0
      },
      "text/plain": [
       "Predicting: 0it [00:00, ?it/s]"
      ]
     },
     "metadata": {},
     "output_type": "display_data"
    },
    {
     "name": "stdout",
     "output_type": "stream",
     "text": [
      "2024-06-27 23:11:30: [INFO]: fold:15\n",
      "2024-06-27 23:11:30: [INFO]: train_subs:[0, 1, 2, 3, 4, 5, 6, 7, 8, 9, 10, 11, 12, 13, 14]\n",
      "2024-06-27 23:11:30: [INFO]: val_subs:[15]\n",
      "2024-06-27 23:11:31: [INFO]: data2 load from: /mnt/data/model_weights/grm/SEEDV_new2/ext_fea/fea_r57/use_pretrainFalse_r57_f15_fea_me.npy\n",
      "2024-06-27 23:11:31: [INFO]: data2 shape: (16, 7359, 300)\n",
      "2024-06-27 23:11:31: [INFO]: checkpoint load from: /mnt/data/model_weights/grm/clisa_cp2/SEEDV/r57/mlp_f15_use_pretrainFalse_mlp_r57_f15_best_wd0.0022.ckpt\n"
     ]
    },
    {
     "name": "stderr",
     "output_type": "stream",
     "text": [
      "GPU available: True (cuda), used: True\n",
      "TPU available: False, using: 0 TPU cores\n",
      "IPU available: False, using: 0 IPUs\n",
      "HPU available: False, using: 0 HPUs\n",
      "You are using a CUDA device ('NVIDIA GeForce RTX 4090') that has Tensor Cores. To properly utilize them, you should set `torch.set_float32_matmul_precision('medium' | 'high')` which will trade-off precision for performance. For more details, read https://pytorch.org/docs/stable/generated/torch.set_float32_matmul_precision.html#torch.set_float32_matmul_precision\n",
      "LOCAL_RANK: 0 - CUDA_VISIBLE_DEVICES: [0,1,2,3,4,5,6,7]\n"
     ]
    },
    {
     "data": {
      "application/vnd.jupyter.widget-view+json": {
       "model_id": "98b25cb98fa54b73b4787988a625a5e0",
       "version_major": 2,
       "version_minor": 0
      },
      "text/plain": [
       "Predicting: 0it [00:00, ?it/s]"
      ]
     },
     "metadata": {},
     "output_type": "display_data"
    },
    {
     "data": {
      "image/png": "[encoded data removed]",
      "text/plain": [
       "<Figure size 1000x700 with 2 Axes>"
      ]
     },
     "metadata": {},
     "output_type": "display_data"
    },
    {
     "name": "stdout",
     "output_type": "stream",
     "text": [
      "accuracy: 0.6182565565973638\n",
      "precision mean(balanced acc): 0.6219792348763347\n",
      "recall mean: 0.6213023650287477\n",
      "f1 0.6216406157011252\n"
     ]
    },
    {
     "data": {
      "text/plain": [
       "(0.6182565565973638,\n",
       " 0.6219792348763347,\n",
       " 0.6213023650287477,\n",
       " 0.6216406157011252)"
      ]
     },
     "execution_count": 10,
     "metadata": {},
     "output_type": "execute_result"
    }
   ],
   "source": [
    "log = logging.getLogger(__name__)\n",
    "config_logging(__name__,logging.INFO)\n",
    "\n",
    "\n",
    "def train_mlp(cfg: DictConfig) -> None:\n",
    "    \n",
    "    pl.seed_everything(cfg.seed)\n",
    "    torch.backends.cudnn.deterministic = True\n",
    "    torch.backends.cudnn.benchmark = False\n",
    "    \n",
    "    if isinstance(cfg.train.valid_method, int):\n",
    "        n_folds = cfg.train.valid_method\n",
    "    elif cfg.train.valid_method == 'loo':\n",
    "        n_folds = cfg.train.n_subs\n",
    "\n",
    "    n_per = round(cfg.data.n_subs / n_folds)\n",
    "    confusion_mat_all = []\n",
    "    for fold in range(0,n_folds):\n",
    "        cp_dir = os.path.join(cfg.log.cp_dir, cfg.data.dataset_name, f'r{cfg.log.run}')\n",
    "        os.makedirs(cp_dir, exist_ok=True)\n",
    "\n",
    "        log.info(f\"fold:{fold}\")\n",
    "        if n_folds == 1:\n",
    "            val_subs = []\n",
    "        elif fold < n_folds - 1:\n",
    "            val_subs = np.arange(n_per * fold, n_per * (fold + 1))\n",
    "        else:\n",
    "            val_subs = np.arange(n_per * fold, cfg.data.n_subs)            \n",
    "        train_subs = list(set(np.arange(cfg.data.n_subs)) - set(val_subs))\n",
    "        # if len(val_subs) == 1:\n",
    "        #     val_subs = list(val_subs) + train_subs\n",
    "        log.info(f'train_subs:{train_subs}')\n",
    "        log.info(f'val_subs:{val_subs}')\n",
    "        \n",
    "        save_dir = os.path.join(cfg.data.data_dir,'ext_fea',f'fea_r{cfg.log.run}')\n",
    "        save_path = os.path.join(save_dir,cfg.log.exp_name+'_r'+str(cfg.log.run)+f'_f{fold}_fea_'+cfg.ext_fea.mode+'.npy')\n",
    "        data2 = np.load(save_path)\n",
    "        log.info('data2 load from: '+save_path)\n",
    "        # print(data2[:,160])\n",
    "        if np.isnan(data2).any():\n",
    "            log.warning('nan in data2')\n",
    "            data2 = np.where(np.isnan(data2), 0, data2)\n",
    "\n",
    "        data2 = data2.reshape(cfg.data.n_subs, -1, data2.shape[-1])\n",
    "        log.info('data2 shape: '+str(data2.shape))\n",
    "        onesub_label2 = np.load(save_dir+'/onesub_label2.npy')\n",
    "        # labels2_train = np.tile(onesub_label2, len(train_subs))\n",
    "        labels2_val = np.tile(onesub_label2, len(val_subs))\n",
    "        log.debug('labels2_val shape: '+str(labels2_val.shape))\n",
    "        # trainset2 = PDataset(data2[train_subs].reshape(-1,data2.shape[-1]), labels2_train)\n",
    "        valset2 = PDataset(data2[val_subs].reshape(-1,data2.shape[-1]), labels2_val)\n",
    "        # trainLoader = DataLoader(trainset2, batch_size=cfg.mlp.batch_size, shuffle=True, num_workers=cfg.mlp.num_workers)\n",
    "        valLoader = DataLoader(valset2, batch_size=cfg.mlp.batch_size, shuffle=False, num_workers=cfg.mlp.num_workers)\n",
    "        \n",
    "        checkpoint =  os.path.join(cfg.log.cp_dir,cfg.data.dataset_name,f'r{cfg.log.run}',f'mlp_f{fold}*')\n",
    "        checkpoint = glob.glob(checkpoint)[0]\n",
    "            \n",
    "        log.info('checkpoint load from: '+checkpoint)\n",
    "        Predictor = MLPModel.load_from_checkpoint(checkpoint_path=checkpoint)\n",
    "        log.debug(Predictor)\n",
    "        \n",
    "        trainer = pl.Trainer(accelerator='gpu', devices=cfg.train.gpus)\n",
    "        pred = trainer.predict(Predictor, valLoader)\n",
    "        pred = torch.cat(pred).cpu().numpy()\n",
    "        log.debug(pred.shape)\n",
    "        confusion_mat = get_confusionMat(pred, labels2_val, cfg.data.n_class)\n",
    "        confusion_mat_all.append(confusion_mat)\n",
    "        # plot_confusion_matrix(confusion_mat)\n",
    "        if cfg.train.iftest :\n",
    "            break\n",
    "    confusion_mat_ave = np.array(confusion_mat_all).mean(axis=0)\n",
    "    return confusion_mat_ave\n",
    "\n",
    "        \n",
    "confusion_mat = train_mlp(cfg)\n",
    "plot_confusion_matrix(confusion_mat,cfg.data.class_names)\n",
    "mat_statistics(confusion_mat)"
   ]
  },
  {
   "cell_type": "code",
   "execution_count": null,
   "metadata": {},
   "outputs": [],
   "source": []
  }
 ],
 "metadata": {
  "kernelspec": {
   "display_name": "Python 3",
   "language": "python",
   "name": "python3"
  },
  "language_info": {
   "codemirror_mode": {
    "name": "ipython",
    "version": 3
   },
   "file_extension": ".py",
   "mimetype": "text/x-python",
   "name": "python",
   "nbconvert_exporter": "python",
   "pygments_lexer": "ipython3",
   "version": "3.11.3"
  }
 },
 "nbformat": 4,
 "nbformat_minor": 2
}
