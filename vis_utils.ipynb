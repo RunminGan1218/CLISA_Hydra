{
 "cells": [
  {
   "cell_type": "code",
   "execution_count": 11,
   "metadata": {},
   "outputs": [
    {
     "name": "stderr",
     "output_type": "stream",
     "text": [
      "usage: ipykernel_launcher.py [--help] [--hydra-help] [--version]\n",
      "                             [--cfg {job,hydra,all}] [--resolve]\n",
      "                             [--package PACKAGE] [--run] [--multirun]\n",
      "                             [--shell-completion] [--config-path CONFIG_PATH]\n",
      "                             [--config-name CONFIG_NAME]\n",
      "                             [--config-dir CONFIG_DIR]\n",
      "                             [--experimental-rerun EXPERIMENTAL_RERUN]\n",
      "                             [--info [{all,config,defaults,defaults-tree,plugins,searchpath}]]\n",
      "                             [overrides ...]\n",
      "ipykernel_launcher.py: error: unrecognized arguments: --f=/home/gpt/.local/share/jupyter/runtime/kernel-v2-3630053shywk5vqUk2S.json\n"
     ]
    },
    {
     "ename": "SystemExit",
     "evalue": "2",
     "output_type": "error",
     "traceback": [
      "An exception has occurred, use %tb to see the full traceback.\n",
      "\u001b[0;31mSystemExit\u001b[0m\u001b[0;31m:\u001b[0m 2\n"
     ]
    }
   ],
   "source": [
    "# feature distribution\n",
    "import matplotlib.pyplot as plt\n",
    "import hydra\n",
    "from omegaconf import DictConfig\n",
    "import os\n",
    "import numpy as np\n",
    "\n",
    "@hydra.main(config_path='cfgs', config_name='config',version_base=\"1.3\")\n",
    "def fea_distribution(cfg: DictConfig):\n",
    "    fold= 0\n",
    "    save_path = os.path.join(cfg.ext_fea.save_dir,f'fold_{fold}_fea_'+cfg.ext_fea.mode+'.npy')\n",
    "    data2 = np.load(save_path)\n",
    "    fea = data2.reshape(16, -1, data2.shape[-1])\n",
    "    val_subs = [0]\n",
    "    train_subs = list(set(np.arange(16)) - set(val_subs))\n",
    "    # Assuming fea, train_subs and val_subs are defined\n",
    "    train_data = fea[train_subs].reshape(-1, fea.shape[-1])\n",
    "    val_data = fea[val_subs].reshape(-1, fea.shape[-1])\n",
    "\n",
    "    # Plot histograms for each dimension\n",
    "    for dim in range(fea.shape[-1]):\n",
    "        plt.figure(figsize=(10, 6))\n",
    "        plt.hist(train_data[:, dim], bins=30, alpha=0.5, label='Train')\n",
    "        plt.hist(val_data[:, dim], bins=30, alpha=0.5, label='Validation')\n",
    "        plt.title(f'Distribution for dimension {dim}')\n",
    "        plt.xlabel('Value')\n",
    "        plt.ylabel('Frequency')\n",
    "        plt.legend(loc='upper right')\n",
    "        plt.show()\n",
    "\n",
    "fea_distribution()"
   ]
  },
  {
   "cell_type": "code",
   "execution_count": null,
   "metadata": {},
   "outputs": [],
   "source": [
    "import data.dataset as dataset\n",
    "import os\n",
    "import numpy as np\n",
    "import scipy.io as sio\n",
    "\n",
    "\n",
    "dir = '/mnt/data/model_weights/grm/SEEDV/EEG_processed_sxk'\n",
    "list_files = os.listdir(dir)\n",
    "list_files.sort(key= lambda x:int(x[:-4]))\n",
    "\n",
    "fn = list_files[0]\n",
    "file_path = os.path.join(dir,fn)\n",
    "onesubsession_data = sio.loadmat(file_path)  \n",
    "EEG_data = onesubsession_data['data']   #(channels,tot_n_points)  (62,tot_n_points)\n",
    "thr = 30 * np.median(np.abs(EEG_data))\n",
    "EEG_data = (EEG_data - np.mean(EEG_data[EEG_data<thr])) / np.std(EEG_data[EEG_data<thr])\n",
    "n_points = np.squeeze(onesubsession_data['n_points']).astype(int)\n",
    "print(EEG_data.shape)\n",
    "print(n_points)"
   ]
  },
  {
   "cell_type": "code",
   "execution_count": null,
   "metadata": {},
   "outputs": [],
   "source": [
    "import matplotlib.pyplot as plt\n",
    "fig, axs = plt.subplots(62, 1, figsize=(15, 62*3))  # Adjust the figure size as needed\n",
    "\n",
    "for channel in range(62):\n",
    "    axs[channel].plot(EEG_data[channel, 18000-7500:18000])\n",
    "    axs[channel].set_title(f\"EEG data for channel {channel}\")\n",
    "    axs[channel].set_xlabel(\"Time\")\n",
    "    axs[channel].set_ylabel(\"Amplitude\")\n",
    "\n",
    "plt.tight_layout()\n",
    "plt.show()"
   ]
  },
  {
   "cell_type": "code",
   "execution_count": null,
   "metadata": {},
   "outputs": [],
   "source": [
    "import data.dataset as dataset\n",
    "import os\n",
    "import numpy as np\n",
    "import scipy.io as sio\n",
    "\n",
    "\n",
    "dir_seed = '/mnt/data/model_weights/grm/SEED/'\n",
    "\n",
    "data_seed = np.load(os.path.join(dir_seed, 'data_all.npy'))\n",
    "\n",
    "print(print(data_seed.shape))\n"
   ]
  },
  {
   "cell_type": "code",
   "execution_count": null,
   "metadata": {},
   "outputs": [],
   "source": [
    "import matplotlib.pyplot as plt\n",
    "fig, axs = plt.subplots(62, 1, figsize=(15, 62*3))  # Adjust the figure size as needed\n",
    "\n",
    "for channel in range(62):\n",
    "    axs[channel].plot(data_seed[0,channel, :200*30])\n",
    "    axs[channel].set_title(f\"EEG data for channel {channel}\")\n",
    "    axs[channel].set_xlabel(\"Time\")\n",
    "    axs[channel].set_ylabel(\"Amplitude\")\n",
    "\n",
    "plt.tight_layout()\n",
    "plt.show()"
   ]
  }
 ],
 "metadata": {
  "kernelspec": {
   "display_name": "Python 3",
   "language": "python",
   "name": "python3"
  },
  "language_info": {
   "codemirror_mode": {
    "name": "ipython",
    "version": 3
   },
   "file_extension": ".py",
   "mimetype": "text/x-python",
   "name": "python",
   "nbconvert_exporter": "python",
   "pygments_lexer": "ipython3",
   "version": "3.11.3"
  }
 },
 "nbformat": 4,
 "nbformat_minor": 2
}
